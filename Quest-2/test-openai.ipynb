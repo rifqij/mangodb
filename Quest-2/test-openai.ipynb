{
 "cells": [
  {
   "cell_type": "markdown",
   "metadata": {
    "id": "fBO7SUBEkka-"
   },
   "source": [
    "# Test Open AI Access\n",
    "\n",
    "This Python notebook is used to test if your OpenAI API key is working."
   ]
  },
  {
   "cell_type": "markdown",
   "metadata": {
    "id": "DO89XuWOkkbC"
   },
   "source": [
    "## Load Settings"
   ]
  },
  {
   "cell_type": "code",
   "execution_count": 1,
   "metadata": {},
   "outputs": [
    {
     "name": "stdout",
     "output_type": "stream",
     "text": [
      "OpenAI API key successfully detected: sk-proj-5zkZil05VXuI6KooixxQT3BlbkFJX1h4uoMmiO080MjJ1Ro5\n"
     ]
    }
   ],
   "source": [
    "# Import libraries\n",
    "import os, sys\n",
    "import pprint\n",
    "import json\n",
    "import time\n",
    "\n",
    "# Change system path to root direcotry\n",
    "sys.path.insert(0, '../')\n",
    "\n",
    "# Load Settings from .env file\n",
    "from dotenv import find_dotenv, dotenv_values\n",
    "\n",
    "# _ = load_dotenv(find_dotenv()) # read local .env file\n",
    "config = dotenv_values(find_dotenv())\n",
    "\n",
    "# For debugging purposes\n",
    "# print (config)\n",
    "\n",
    "OPENAI_API_KEY = config.get(\"OPENAI_API_KEY\")\n",
    "\n",
    "if OPENAI_API_KEY:\n",
    "    print(\"OpenAI API key successfully detected:\", OPENAI_API_KEY)\n",
    "else:\n",
    "    raise Exception (\"'OPENAI_API_KEY' is not set.  Please set it above to continue...\")"
   ]
  },
  {
   "cell_type": "markdown",
   "metadata": {},
   "source": [
    "## Check Chat Completion"
   ]
  },
  {
   "cell_type": "code",
   "execution_count": 2,
   "metadata": {},
   "outputs": [
    {
     "name": "stdout",
     "output_type": "stream",
     "text": [
      "OpenAI client initialized\n"
     ]
    }
   ],
   "source": [
    "from OpenAIClient import OpenAIClient\n",
    "\n",
    "openAI_client = OpenAIClient (api_key=OPENAI_API_KEY)\n",
    "print (\"OpenAI client initialized\")"
   ]
  },
  {
   "cell_type": "markdown",
   "metadata": {},
   "source": [
    "If you encounter the following error `RateLimitError: Error code: 429 - {'error': {'message': 'You exceeded your current quota, please check your plan and billing details` when running the cell below, it is likely because your OpenAI account is older than 3 months, and as such, your free credits have expired.\n",
    "\n",
    "To overcome this, you can create another OpenAI account; but note that you'll need to have another phone number for this. "
   ]
  },
  {
   "cell_type": "code",
   "execution_count": 3,
   "metadata": {
    "id": "MEzscp9okkbF",
    "scrolled": true
   },
   "outputs": [
    {
     "name": "stdout",
     "output_type": "stream",
     "text": [
      "('{\\n'\n",
      " '    \"id\": \"chatcmpl-9MEu9iqTCX9r1rU5kI4PX3yEJbqD5\",\\n'\n",
      " '    \"choices\": [\\n'\n",
      " '        {\\n'\n",
      " '            \"finish_reason\": \"stop\",\\n'\n",
      " '            \"index\": 0,\\n'\n",
      " '            \"logprobs\": null,\\n'\n",
      " '            \"message\": {\\n'\n",
      " '                \"content\": \"This is a test.\",\\n'\n",
      " '                \"role\": \"assistant\",\\n'\n",
      " '                \"function_call\": null,\\n'\n",
      " '                \"tool_calls\": null\\n'\n",
      " '            }\\n'\n",
      " '        }\\n'\n",
      " '    ],\\n'\n",
      " '    \"created\": 1715087537,\\n'\n",
      " '    \"model\": \"gpt-3.5-turbo-0125\",\\n'\n",
      " '    \"object\": \"chat.completion\",\\n'\n",
      " '    \"system_fingerprint\": null,\\n'\n",
      " '    \"usage\": {\\n'\n",
      " '        \"completion_tokens\": 5,\\n'\n",
      " '        \"prompt_tokens\": 12,\\n'\n",
      " '        \"total_tokens\": 17\\n'\n",
      " '    }\\n'\n",
      " '}')\n"
     ]
    }
   ],
   "source": [
    "messages=[\n",
    "    {\n",
    "    \"role\": \"user\",\n",
    "    \"content\": \"Say this is a test\",\n",
    "    }\n",
    "]\n",
    "chat_completion = openAI_client.chat(messages=messages)\n",
    "pprint.pprint (chat_completion.model_dump_json(indent=4))"
   ]
  },
  {
   "cell_type": "markdown",
   "metadata": {},
   "source": [
    "## Check Embeddings"
   ]
  },
  {
   "cell_type": "code",
   "execution_count": 4,
   "metadata": {},
   "outputs": [
    {
     "name": "stdout",
     "output_type": "stream",
     "text": [
      "Embedding for word='apple' using model='text-embedding-ada-002', embeddding_length=1536, printing first few numbers... :\n",
      " [0.0077886939980089664, -0.02308620885014534, -0.007563429418951273, -0.02779628522694111, -0.004546249285340309, 0.013031215406954288, -0.02207593061029911, -0.00849179271608591, 0.018894921988248825, -0.029625708237290382]\n"
     ]
    }
   ],
   "source": [
    "word = 'apple'\n",
    "model = 'text-embedding-ada-002'\n",
    "embedding = openAI_client.get_embedding(word, model)\n",
    "print (f\"Embedding for word='{word}' using model='{model}', embeddding_length={len(embedding)}, printing first few numbers... :\\n\", embedding [:10] )"
   ]
  },
  {
   "cell_type": "markdown",
   "metadata": {},
   "source": [
    "Awesome! Now that we've checked that our OpenAI API key works as intended, let's **head back to the StackUp** Quest 2 page to complete the remainder of the quest."
   ]
  }
 ],
 "metadata": {
  "colab": {
   "provenance": []
  },
  "kernelspec": {
   "display_name": "atlas-1",
   "language": "python",
   "name": "atlas-1"
  },
  "language_info": {
   "codemirror_mode": {
    "name": "ipython",
    "version": 3
   },
   "file_extension": ".py",
   "mimetype": "text/x-python",
   "name": "python",
   "nbconvert_exporter": "python",
   "pygments_lexer": "ipython3",
   "version": "3.11.9"
  }
 },
 "nbformat": 4,
 "nbformat_minor": 4
}
